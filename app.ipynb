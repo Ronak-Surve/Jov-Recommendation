{
 "cells": [
  {
   "cell_type": "code",
   "execution_count": 4,
   "metadata": {},
   "outputs": [],
   "source": [
    "import os\n",
    "import pandas as pd\n",
    "from flask import Flask,render_template,redirect,request\n",
    "from werkzeug.utils import secure_filename\n",
    "\n",
    "from resume_screening import resparser, match"
   ]
  },
  {
   "cell_type": "code",
   "execution_count": 5,
   "metadata": {},
   "outputs": [],
   "source": [
    "import nltk\n",
    "#nltk.download('punkt')\n",
    "#nltk.download('averaged_perceptron_tagger')\n",
    "#nltk.download('universal_tagset')\n",
    "#nltk.download('maxent_ne_chunker')\n",
    "#nltk.download('stopwords')\n",
    "#nltk.download('wordnet')\n",
    "#nltk.download('brown')\n",
    "\n",
    "from nltk.corpus import stopwords\n",
    "stopw  = set(stopwords.words('english'))"
   ]
  },
  {
   "cell_type": "code",
   "execution_count": 6,
   "metadata": {},
   "outputs": [],
   "source": [
    "job = pd.read_csv('indeed_data.csv')\n",
    "job['test'] = job['description'].apply(lambda x: ' '.join([word for word in str(x).split() if len(word)>2 and word not in (stopw)]))\n",
    "df = job.drop_duplicates(subset='test').reset_index(drop=True)\n",
    "df['clean'] = df['test'].apply(match.preprocessing)\n",
    "jobdesc = (df['clean'].values.astype('U'))"
   ]
  },
  {
   "cell_type": "code",
   "execution_count": 7,
   "metadata": {},
   "outputs": [
    {
     "name": "stdout",
     "output_type": "stream",
     "text": [
      " * Serving Flask app '__main__' (lazy loading)\n",
      " * Environment: production\n",
      "\u001b[31m   WARNING: This is a development server. Do not use it in a production deployment.\u001b[0m\n",
      "\u001b[2m   Use a production WSGI server instead.\u001b[0m\n",
      " * Debug mode: off\n"
     ]
    },
    {
     "name": "stderr",
     "output_type": "stream",
     "text": [
      " * Running on http://127.0.0.1:5000 (Press CTRL+C to quit)\n",
      "127.0.0.1 - - [13/Jun/2022 21:36:54] \"GET / HTTP/1.1\" 200 -\n",
      "127.0.0.1 - - [13/Jun/2022 21:36:55] \"GET /static/img/file-upload.png HTTP/1.1\" 304 -\n",
      "127.0.0.1 - - [13/Jun/2022 21:36:55] \"GET /static/img/logo.png HTTP/1.1\" 304 -\n",
      "127.0.0.1 - - [13/Jun/2022 21:36:55] \"GET /static/styles/style.css HTTP/1.1\" 304 -\n",
      "127.0.0.1 - - [13/Jun/2022 21:36:55] \"GET /static/img/telegram.png HTTP/1.1\" 304 -\n",
      "127.0.0.1 - - [13/Jun/2022 21:36:55] \"GET /static/java/button.js HTTP/1.1\" 304 -\n",
      "127.0.0.1 - - [13/Jun/2022 21:37:09] \"GET /about HTTP/1.1\" 200 -\n",
      "127.0.0.1 - - [13/Jun/2022 21:37:09] \"GET /static/styles/style.css HTTP/1.1\" 304 -\n",
      "127.0.0.1 - - [13/Jun/2022 21:37:09] \"GET /static/img/logo.png HTTP/1.1\" 304 -\n",
      "127.0.0.1 - - [13/Jun/2022 21:37:09] \"GET /static/img/interview.jpg HTTP/1.1\" 304 -\n",
      "127.0.0.1 - - [13/Jun/2022 21:37:09] \"GET /static/img/sinung.png HTTP/1.1\" 304 -\n",
      "127.0.0.1 - - [13/Jun/2022 21:37:09] \"GET /static/img/farhan.png HTTP/1.1\" 304 -\n",
      "127.0.0.1 - - [13/Jun/2022 21:37:09] \"GET /static/img/andhika.png HTTP/1.1\" 304 -\n",
      "127.0.0.1 - - [13/Jun/2022 21:37:09] \"GET /static/img/ricardo.png HTTP/1.1\" 304 -\n",
      "127.0.0.1 - - [13/Jun/2022 21:37:41] \"GET / HTTP/1.1\" 200 -\n",
      "127.0.0.1 - - [13/Jun/2022 21:37:41] \"GET /static/styles/style.css HTTP/1.1\" 304 -\n",
      "127.0.0.1 - - [13/Jun/2022 21:37:41] \"GET /static/img/logo.png HTTP/1.1\" 304 -\n",
      "127.0.0.1 - - [13/Jun/2022 21:37:41] \"GET /static/java/button.js HTTP/1.1\" 304 -\n",
      "127.0.0.1 - - [13/Jun/2022 21:37:41] \"GET /static/img/file-upload.png HTTP/1.1\" 304 -\n",
      "127.0.0.1 - - [13/Jun/2022 21:37:41] \"GET /static/img/telegram.png HTTP/1.1\" 304 -\n",
      "[2022-06-13 21:37:47,955] ERROR in app: Exception on /submit [POST]\n",
      "Traceback (most recent call last):\n",
      "  File \"c:\\Users\\Acer\\anaconda3\\envs\\resume-parser\\lib\\site-packages\\flask\\app.py\", line 2077, in wsgi_app\n",
      "    response = self.full_dispatch_request()\n",
      "  File \"c:\\Users\\Acer\\anaconda3\\envs\\resume-parser\\lib\\site-packages\\flask\\app.py\", line 1525, in full_dispatch_request\n",
      "    rv = self.handle_user_exception(e)\n",
      "  File \"c:\\Users\\Acer\\anaconda3\\envs\\resume-parser\\lib\\site-packages\\flask\\app.py\", line 1523, in full_dispatch_request\n",
      "    rv = self.dispatch_request()\n",
      "  File \"c:\\Users\\Acer\\anaconda3\\envs\\resume-parser\\lib\\site-packages\\flask\\app.py\", line 1509, in dispatch_request\n",
      "    return self.ensure_sync(self.view_functions[rule.endpoint])(**req.view_args)\n",
      "  File \"C:\\Users\\Acer\\AppData\\Local\\Temp/ipykernel_2640/885763857.py\", line 24, in submit_data\n",
      "    f.save(os.path.join(app.instance_path, 'resume_files', secure_filename(f.filename)))\n",
      "  File \"c:\\Users\\Acer\\anaconda3\\envs\\resume-parser\\lib\\site-packages\\werkzeug\\datastructures.py\", line 2999, in save\n",
      "    dst = open(dst, \"wb\")\n",
      "FileNotFoundError: [Errno 2] No such file or directory: 'c:\\\\Users\\\\Acer\\\\python program\\\\orbit\\\\last_project\\\\jobox-project\\\\instance\\\\resume_files\\\\'\n",
      "127.0.0.1 - - [13/Jun/2022 21:37:47] \"POST /submit HTTP/1.1\" 500 -\n",
      "127.0.0.1 - - [13/Jun/2022 21:39:03] \"POST /submit HTTP/1.1\" 200 -\n",
      "127.0.0.1 - - [13/Jun/2022 21:39:04] \"GET /static/styles/style.css HTTP/1.1\" 304 -\n",
      "127.0.0.1 - - [13/Jun/2022 21:39:04] \"GET /static/img/logo.png HTTP/1.1\" 304 -\n",
      "127.0.0.1 - - [13/Jun/2022 21:39:04] \"GET /static/java/button.js HTTP/1.1\" 304 -\n",
      "127.0.0.1 - - [13/Jun/2022 21:39:04] \"GET /static/img/file-upload.png HTTP/1.1\" 304 -\n",
      "127.0.0.1 - - [13/Jun/2022 21:39:04] \"GET /static/img/telegram.png HTTP/1.1\" 304 -\n"
     ]
    }
   ],
   "source": [
    "app=Flask(__name__)\n",
    "\n",
    "os.makedirs(os.path.join(app.instance_path, 'resume_files'), exist_ok=True)\n",
    "\n",
    "@app.route('/')\n",
    "def index():\n",
    "    return render_template(\"index.html\")\n",
    "\n",
    "\n",
    "@app.route('/about')\n",
    "def about():\n",
    "    return render_template('about.html')\n",
    "\n",
    "@app.route(\"/home\")\n",
    "def home():\n",
    "    return redirect('/')\n",
    "\n",
    "\n",
    "@app.route('/submit',methods=['POST'])\n",
    "def submit_data():\n",
    "    if request.method == 'POST':\n",
    "        \n",
    "        f=request.files['userfile']\n",
    "        f.save(os.path.join(app.instance_path, 'resume_files', secure_filename(f.filename)))\n",
    "        skills = resparser.skill('resume_files/{}'.format(f.filename))\n",
    "        skills.append(match.preprocessing(skills[0]))\n",
    "        del skills[0]\n",
    "\n",
    "        count_matrix = match.vectorizing(skills[0], jobdesc)\n",
    "        matchPercentage = match.coSim(count_matrix)\n",
    "        matchPercentage = pd.DataFrame(matchPercentage, columns=['Skills Match'])\n",
    "\n",
    "        #Job Vacancy Recommendations\n",
    "        result_cosine = df[['title','company','link']]\n",
    "        result_cosine = result_cosine.join(matchPercentage)\n",
    "        result_cosine = result_cosine[['title','company','Skills Match','link']]\n",
    "        result_cosine.columns = ['Job Title','Company','Skills Match','Link']\n",
    "        result_cosine = result_cosine.sort_values('Skills Match', ascending=False).reset_index(drop=True).head(20)\n",
    "\n",
    "    return render_template('index.html', column_names=result_cosine.columns.values, row_data=list(result_cosine.values.tolist()),\n",
    "                           link_column=\"Link\", zip=zip)\n",
    "\n",
    "\n",
    "if __name__ ==\"__main__\":    \n",
    "    app.run()"
   ]
  }
 ],
 "metadata": {
  "interpreter": {
   "hash": "0704c1014d2cb504113577ece8b12b8a075edf3a208a58742c1e18b4dc967803"
  },
  "kernelspec": {
   "display_name": "Python 3.9.12 ('resume-parser')",
   "language": "python",
   "name": "python3"
  },
  "language_info": {
   "codemirror_mode": {
    "name": "ipython",
    "version": 3
   },
   "file_extension": ".py",
   "mimetype": "text/x-python",
   "name": "python",
   "nbconvert_exporter": "python",
   "pygments_lexer": "ipython3",
   "version": "3.9.12"
  },
  "orig_nbformat": 4
 },
 "nbformat": 4,
 "nbformat_minor": 2
}
